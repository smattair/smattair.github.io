{
  "cells": [
    {
      "cell_type": "markdown",
      "metadata": {},
      "source": [
        "---\n",
        "title: \"About\"\n",
        "---\n",
        "\n",
        "\n",
        "\n",
        "\n",
        "About this site\n",
        "\n",
        "\n",
        "\n",
        "\n",
        "```{I am a determined and strong-willed individual. I pride myself in always doing my best and taking the next step forward.}\n",
        "\n",
        "```\n",
        "\n",
        "\n",
        "\n",
        "\n",
        "I focus on the ideas of sustainability and envrionmental conservation. It is important to me that people live amongst the Earth while maintaining a happy life."
      ],
      "id": "d75d4132"
    }
  ],
  "metadata": {
    "kernelspec": {
      "display_name": "Python 3",
      "language": "python",
      "name": "python3"
    }
  },
  "nbformat": 4,
  "nbformat_minor": 5
}